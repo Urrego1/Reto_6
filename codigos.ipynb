#variable int=
x:int= 1

#bucle while=
def square(x:int):
  while(x<=100):
    print("el cuadrado del número",x,"es",x**2)
    x = x+1

if __name__=="__main__":
  s=square(x)
